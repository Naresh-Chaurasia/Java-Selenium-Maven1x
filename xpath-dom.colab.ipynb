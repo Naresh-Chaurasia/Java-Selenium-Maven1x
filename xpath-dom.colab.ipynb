{
 "cells": [
  {
   "cell_type": "code",
   "execution_count": null,
   "id": "5feecc2f",
   "metadata": {
    "vscode": {
     "languageId": "plaintext"
    }
   },
   "outputs": [],
   "source": [
    "from bs4 import BeautifulSoup\n",
    "from graphviz import Digraph\n",
    "\n",
    "# Read the HTML file\n",
    "with open(\"xpath.html\", \"r\", encoding=\"utf-8\") as file:\n",
    "    soup = BeautifulSoup(file, \"html.parser\")\n",
    "\n",
    "# Initialize Graphviz\n",
    "dot = Digraph(comment=\"HTML DOM Tree\")\n",
    "\n",
    "# Recursive function to walk the DOM and create nodes\n",
    "def walk_dom(node, parent_id=None, node_id=0):\n",
    "    if node.name is not None:\n",
    "        curr_id = str(id(node))\n",
    "        label = node.name\n",
    "        if node.attrs:\n",
    "            attrs = \" \".join(f'{k}=\"{v}\"' for k, v in node.attrs.items())\n",
    "            label += f\" [{attrs}]\"\n",
    "        dot.node(curr_id, label)\n",
    "        if parent_id:\n",
    "            dot.edge(parent_id, curr_id)\n",
    "        for child in node.children:\n",
    "            if getattr(child, 'name', None):  # skip text and comments\n",
    "                walk_dom(child, curr_id)\n",
    "\n",
    "# Start walking from the <html> tag\n",
    "html_tag = soup.find(\"html\")\n",
    "if html_tag:\n",
    "    walk_dom(html_tag)\n",
    "else:\n",
    "    print(\"No <html> tag found.\")\n",
    "\n",
    "# Save the diagram\n",
    "dot.render(\"xpath-image\", format=\"png\", cleanup=False)\n"
   ]
  },
  {
   "cell_type": "markdown",
   "id": "ea3b415f",
   "metadata": {},
   "source": [
    "OK"
   ]
  }
 ],
 "metadata": {
  "language_info": {
   "name": "python"
  }
 },
 "nbformat": 4,
 "nbformat_minor": 5
}
